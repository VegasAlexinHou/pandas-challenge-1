{
 "cells": [
  {
   "cell_type": "markdown",
   "id": "dc0318d6",
   "metadata": {},
   "source": [
    "## Part 1: Explore the Data\n",
    "\n",
    "Import the data and use Pandas to learn more about the dataset."
   ]
  },
  {
   "cell_type": "code",
   "execution_count": 127,
   "id": "e076f57f",
   "metadata": {},
   "outputs": [
    {
     "data": {
      "text/html": [
       "<div>\n",
       "<style scoped>\n",
       "    .dataframe tbody tr th:only-of-type {\n",
       "        vertical-align: middle;\n",
       "    }\n",
       "\n",
       "    .dataframe tbody tr th {\n",
       "        vertical-align: top;\n",
       "    }\n",
       "\n",
       "    .dataframe thead th {\n",
       "        text-align: right;\n",
       "    }\n",
       "</style>\n",
       "<table border=\"1\" class=\"dataframe\">\n",
       "  <thead>\n",
       "    <tr style=\"text-align: right;\">\n",
       "      <th></th>\n",
       "      <th>first</th>\n",
       "      <th>last</th>\n",
       "      <th>job</th>\n",
       "      <th>phone</th>\n",
       "      <th>email</th>\n",
       "      <th>client_id</th>\n",
       "      <th>order_id</th>\n",
       "      <th>order_date</th>\n",
       "      <th>order_week</th>\n",
       "      <th>order_year</th>\n",
       "      <th>item_id</th>\n",
       "      <th>category</th>\n",
       "      <th>subcategory</th>\n",
       "      <th>unit_price</th>\n",
       "      <th>unit_cost</th>\n",
       "      <th>unit_weight</th>\n",
       "      <th>qty</th>\n",
       "      <th>line_number</th>\n",
       "    </tr>\n",
       "  </thead>\n",
       "  <tbody>\n",
       "    <tr>\n",
       "      <th>0</th>\n",
       "      <td>Donald</td>\n",
       "      <td>Harding</td>\n",
       "      <td>Immunologist</td>\n",
       "      <td>793-904-7725x39308</td>\n",
       "      <td>harding.donald.7185@sullivan.com</td>\n",
       "      <td>58515</td>\n",
       "      <td>8953482</td>\n",
       "      <td>2023-04-28</td>\n",
       "      <td>17</td>\n",
       "      <td>2023</td>\n",
       "      <td>EUD29711-63-6U</td>\n",
       "      <td>decor</td>\n",
       "      <td>wall art</td>\n",
       "      <td>1096.80</td>\n",
       "      <td>762.71</td>\n",
       "      <td>7.50</td>\n",
       "      <td>105</td>\n",
       "      <td>1</td>\n",
       "    </tr>\n",
       "    <tr>\n",
       "      <th>1</th>\n",
       "      <td>Tiffany</td>\n",
       "      <td>Myers</td>\n",
       "      <td>Music therapist</td>\n",
       "      <td>201.442.4543x942</td>\n",
       "      <td>myers.t.6537@ferguson-johnson.net</td>\n",
       "      <td>37609</td>\n",
       "      <td>8069089</td>\n",
       "      <td>2023-05-19</td>\n",
       "      <td>20</td>\n",
       "      <td>2023</td>\n",
       "      <td>XDA18116-89-4A</td>\n",
       "      <td>consumables</td>\n",
       "      <td>pens</td>\n",
       "      <td>24.95</td>\n",
       "      <td>15.09</td>\n",
       "      <td>1.49</td>\n",
       "      <td>21</td>\n",
       "      <td>0</td>\n",
       "    </tr>\n",
       "    <tr>\n",
       "      <th>2</th>\n",
       "      <td>Shannon</td>\n",
       "      <td>Watson</td>\n",
       "      <td>Immunologist</td>\n",
       "      <td>687.737.9424x8503</td>\n",
       "      <td>swatson8146@payne.net</td>\n",
       "      <td>57113</td>\n",
       "      <td>1902144</td>\n",
       "      <td>2023-01-29</td>\n",
       "      <td>4</td>\n",
       "      <td>2023</td>\n",
       "      <td>ABE59463-05-7E</td>\n",
       "      <td>software</td>\n",
       "      <td>project management</td>\n",
       "      <td>13.52</td>\n",
       "      <td>7.86</td>\n",
       "      <td>1.68</td>\n",
       "      <td>39</td>\n",
       "      <td>6</td>\n",
       "    </tr>\n",
       "    <tr>\n",
       "      <th>3</th>\n",
       "      <td>Nathan</td>\n",
       "      <td>Baker</td>\n",
       "      <td>Accounting technician</td>\n",
       "      <td>827-788-8123x012</td>\n",
       "      <td>bakernathan@benson.com</td>\n",
       "      <td>46554</td>\n",
       "      <td>9031802</td>\n",
       "      <td>2023-04-25</td>\n",
       "      <td>17</td>\n",
       "      <td>2023</td>\n",
       "      <td>ZMM00836-65-0C</td>\n",
       "      <td>consumables</td>\n",
       "      <td>pens</td>\n",
       "      <td>36.42</td>\n",
       "      <td>24.85</td>\n",
       "      <td>1.23</td>\n",
       "      <td>29</td>\n",
       "      <td>3</td>\n",
       "    </tr>\n",
       "    <tr>\n",
       "      <th>4</th>\n",
       "      <td>Christina</td>\n",
       "      <td>Schwartz</td>\n",
       "      <td>Chiropractor</td>\n",
       "      <td>265-829-3643</td>\n",
       "      <td>christinaschwartz9252@mcconnell.com</td>\n",
       "      <td>92089</td>\n",
       "      <td>1322274</td>\n",
       "      <td>2023-05-28</td>\n",
       "      <td>21</td>\n",
       "      <td>2023</td>\n",
       "      <td>BZX55559-12-3X</td>\n",
       "      <td>consumables</td>\n",
       "      <td>misc</td>\n",
       "      <td>195.10</td>\n",
       "      <td>108.17</td>\n",
       "      <td>46.43</td>\n",
       "      <td>20</td>\n",
       "      <td>1</td>\n",
       "    </tr>\n",
       "  </tbody>\n",
       "</table>\n",
       "</div>"
      ],
      "text/plain": [
       "       first      last                    job               phone  \\\n",
       "0     Donald   Harding           Immunologist  793-904-7725x39308   \n",
       "1    Tiffany     Myers        Music therapist    201.442.4543x942   \n",
       "2    Shannon    Watson           Immunologist   687.737.9424x8503   \n",
       "3     Nathan     Baker  Accounting technician    827-788-8123x012   \n",
       "4  Christina  Schwartz           Chiropractor        265-829-3643   \n",
       "\n",
       "                                 email  client_id  order_id  order_date  \\\n",
       "0     harding.donald.7185@sullivan.com      58515   8953482  2023-04-28   \n",
       "1    myers.t.6537@ferguson-johnson.net      37609   8069089  2023-05-19   \n",
       "2                swatson8146@payne.net      57113   1902144  2023-01-29   \n",
       "3               bakernathan@benson.com      46554   9031802  2023-04-25   \n",
       "4  christinaschwartz9252@mcconnell.com      92089   1322274  2023-05-28   \n",
       "\n",
       "   order_week  order_year         item_id     category         subcategory  \\\n",
       "0          17        2023  EUD29711-63-6U        decor            wall art   \n",
       "1          20        2023  XDA18116-89-4A  consumables                pens   \n",
       "2           4        2023  ABE59463-05-7E     software  project management   \n",
       "3          17        2023  ZMM00836-65-0C  consumables                pens   \n",
       "4          21        2023  BZX55559-12-3X  consumables                misc   \n",
       "\n",
       "   unit_price  unit_cost  unit_weight  qty  line_number  \n",
       "0     1096.80     762.71         7.50  105            1  \n",
       "1       24.95      15.09         1.49   21            0  \n",
       "2       13.52       7.86         1.68   39            6  \n",
       "3       36.42      24.85         1.23   29            3  \n",
       "4      195.10     108.17        46.43   20            1  "
      ]
     },
     "execution_count": 127,
     "metadata": {},
     "output_type": "execute_result"
    }
   ],
   "source": [
    "import pandas as pd\n",
    "\n",
    "df = pd.read_csv('client_dataset.csv')\n",
    "df.head()"
   ]
  },
  {
   "cell_type": "code",
   "execution_count": 129,
   "id": "71b9bbd2",
   "metadata": {},
   "outputs": [
    {
     "name": "stdout",
     "output_type": "stream",
     "text": [
      "Index(['first', 'last', 'job', 'phone', 'email', 'client_id', 'order_id',\n",
      "       'order_date', 'order_week', 'order_year', 'item_id', 'category',\n",
      "       'subcategory', 'unit_price', 'unit_cost', 'unit_weight', 'qty',\n",
      "       'line_number'],\n",
      "      dtype='object')\n"
     ]
    }
   ],
   "source": [
    "# View the column names in the data\n",
    "print(df.columns)"
   ]
  },
  {
   "cell_type": "code",
   "execution_count": 131,
   "id": "bc0f4172",
   "metadata": {},
   "outputs": [
    {
     "name": "stdout",
     "output_type": "stream",
     "text": [
      "          client_id      order_id    order_week    order_year    unit_price  \\\n",
      "count  54639.000000  5.463900e+04  54639.000000  54639.000000  54639.000000   \n",
      "mean   54837.869416  5.470190e+06     11.359139   2022.993064    136.267207   \n",
      "std    25487.438231  2.599807e+06      7.023499      0.082997    183.873135   \n",
      "min    10033.000000  1.000886e+06      1.000000   2022.000000      0.010000   \n",
      "25%    33593.000000  3.196372e+06      6.000000   2023.000000     20.800000   \n",
      "50%    53305.000000  5.496966e+06     11.000000   2023.000000     68.310000   \n",
      "75%    78498.000000  7.733869e+06     17.000000   2023.000000    173.160000   \n",
      "max    99984.000000  9.998480e+06     52.000000   2023.000000   1396.230000   \n",
      "\n",
      "          unit_cost   unit_weight           qty   line_number  \n",
      "count  54639.000000  54639.000000  5.463900e+04  54639.000000  \n",
      "mean      99.446073      5.004116  5.702646e+02      2.979667  \n",
      "std      133.164267      5.326599  1.879552e+04      2.436320  \n",
      "min        0.010000      0.000000  0.000000e+00      0.000000  \n",
      "25%       14.840000      1.450000  3.200000e+01      1.000000  \n",
      "50%       49.890000      3.240000  6.800000e+01      3.000000  \n",
      "75%      125.570000      6.890000  1.700000e+02      5.000000  \n",
      "max      846.270000     46.430000  3.958244e+06      9.000000  \n"
     ]
    }
   ],
   "source": [
    "# Use the describe function to gather some basic statistics\n",
    "print(df.describe())"
   ]
  },
  {
   "cell_type": "code",
   "execution_count": 133,
   "id": "b24b53cc",
   "metadata": {},
   "outputs": [
    {
     "name": "stdout",
     "output_type": "stream",
     "text": [
      "first          0\n",
      "last           0\n",
      "job            0\n",
      "phone          0\n",
      "email          0\n",
      "client_id      0\n",
      "order_id       0\n",
      "order_date     0\n",
      "order_week     0\n",
      "order_year     0\n",
      "item_id        0\n",
      "category       0\n",
      "subcategory    0\n",
      "unit_price     0\n",
      "unit_cost      0\n",
      "unit_weight    0\n",
      "qty            0\n",
      "line_number    0\n",
      "dtype: int64\n"
     ]
    }
   ],
   "source": [
    "# Use this space to do any additional research and familiarize yourself with the data.\n",
    "\n",
    "# Check for missing values in each column\n",
    "print(df.isnull().sum())"
   ]
  },
  {
   "cell_type": "code",
   "execution_count": 155,
   "id": "9d7977b4-5a6a-48b0-8c25-867f793ce9c4",
   "metadata": {},
   "outputs": [
    {
     "name": "stdout",
     "output_type": "stream",
     "text": [
      "Top three item categories with most entries:\n",
      "category\n",
      "consumables    23538\n",
      "furniture      11915\n",
      "software        8400\n",
      "Name: count, dtype: int64\n"
     ]
    }
   ],
   "source": [
    "# What three item categories had the most entries?\n",
    "top_categories = df['category'].value_counts().nlargest(3)\n",
    "print(\"Top three item categories with most entries:\")\n",
    "print(top_categories)"
   ]
  },
  {
   "cell_type": "code",
   "execution_count": 135,
   "id": "9e37ccd0-7601-4bd5-b10f-beb0d4a51a4c",
   "metadata": {},
   "outputs": [
    {
     "name": "stdout",
     "output_type": "stream",
     "text": [
      "       unit_price  unit_cost  unit_weight       qty\n",
      "0        5.223937   4.980841     0.468574 -0.024754\n",
      "1       -0.605408  -0.633480    -0.659736 -0.029223\n",
      "2       -0.667571  -0.687774    -0.624066 -0.028266\n",
      "3       -0.543027  -0.560186    -0.708548 -0.028798\n",
      "4        0.319967   0.065513     7.777244 -0.029277\n",
      "...           ...        ...          ...       ...\n",
      "54634   -0.288991  -0.359304    -0.517054 -0.028585\n",
      "54635    0.382456   0.570833     1.257077 -0.027840\n",
      "54636   -0.384003  -0.316425    -0.158473 -0.005069\n",
      "54637   -0.733051  -0.737638     2.447341 -0.024382\n",
      "54638   -0.724730  -0.734709    -0.550847  0.024513\n",
      "\n",
      "[54639 rows x 4 columns]\n"
     ]
    }
   ],
   "source": [
    "# Check for outliers in numerical columns:\n",
    "# You can use box plots or z-scores to identify outliers\n",
    "# For box plots:\n",
    "df.boxplot(column=['unit_price', 'unit_cost', 'unit_weight', 'qty'])\n",
    "# For z-scores:\n",
    "from scipy import stats\n",
    "z_scores = stats.zscore(df[['unit_price', 'unit_cost', 'unit_weight', 'qty']])\n",
    "print(z_scores)"
   ]
  },
  {
   "cell_type": "code",
   "execution_count": 137,
   "id": "078374c7-97c2-4b74-8057-d833779690a3",
   "metadata": {},
   "outputs": [
    {
     "name": "stdout",
     "output_type": "stream",
     "text": [
      "first           object\n",
      "last            object\n",
      "job             object\n",
      "phone           object\n",
      "email           object\n",
      "client_id        int64\n",
      "order_id         int64\n",
      "order_date      object\n",
      "order_week       int64\n",
      "order_year       int64\n",
      "item_id         object\n",
      "category        object\n",
      "subcategory     object\n",
      "unit_price     float64\n",
      "unit_cost      float64\n",
      "unit_weight    float64\n",
      "qty              int64\n",
      "line_number      int64\n",
      "dtype: object\n"
     ]
    }
   ],
   "source": [
    "# Check the data types of each column:\n",
    "print(df.dtypes)"
   ]
  },
  {
   "cell_type": "code",
   "execution_count": 139,
   "id": "dd867d88-fa1e-4d04-a624-0c9f7978c9f5",
   "metadata": {},
   "outputs": [
    {
     "name": "stdout",
     "output_type": "stream",
     "text": [
      "['decor' 'consumables' 'software' 'furniture' 'electronics']\n"
     ]
    }
   ],
   "source": [
    "# View unique values in the 'category' column\n",
    "print(df['category'].unique())"
   ]
  },
  {
   "cell_type": "code",
   "execution_count": 141,
   "id": "f790ab9f-9a10-47f7-83da-e8ef197c94e7",
   "metadata": {},
   "outputs": [
    {
     "name": "stdout",
     "output_type": "stream",
     "text": [
      "0\n"
     ]
    }
   ],
   "source": [
    "#Check for duplicate rows:\n",
    "print(df.duplicated().sum())"
   ]
  },
  {
   "cell_type": "code",
   "execution_count": 145,
   "id": "5f54e2cf",
   "metadata": {},
   "outputs": [
    {
     "name": "stdout",
     "output_type": "stream",
     "text": [
      "bathroom supplies\n"
     ]
    }
   ],
   "source": [
    "# For the category with the most entries, which subcategory had the most entries?\n",
    "# Identify the category with the most entries\n",
    "most_common_category = top_categories.index[0]\n",
    "\n",
    "# Filter the dataframe to only include rows with the most common category\n",
    "category_df = df[df['category'] == most_common_category]\n",
    "\n",
    "# Find the subcategory with the most entries within the most common category\n",
    "top_subcategory = category_df['subcategory'].value_counts().idxmax()\n",
    "print(top_subcategory)"
   ]
  },
  {
   "cell_type": "code",
   "execution_count": 159,
   "id": "551cb358",
   "metadata": {},
   "outputs": [
    {
     "name": "stdout",
     "output_type": "stream",
     "text": [
      "Subcategory with most entries in the category with most entries: bathroom supplies\n"
     ]
    }
   ],
   "source": [
    "# For the category with the most entries, which subcategory had the most entries?\n",
    "most_entries_category = top_categories.index[0]\n",
    "top_subcategory = df[df['category'] == most_entries_category]['subcategory'].value_counts().idxmax()\n",
    "print(\"Subcategory with most entries in the category with most entries:\", top_subcategory)\n"
   ]
  },
  {
   "cell_type": "code",
   "execution_count": 147,
   "id": "2db94379",
   "metadata": {},
   "outputs": [
    {
     "name": "stdout",
     "output_type": "stream",
     "text": [
      "client_id\n",
      "33615    220\n",
      "66037    211\n",
      "46820    209\n",
      "38378    207\n",
      "24741    207\n",
      "Name: count, dtype: int64\n"
     ]
    }
   ],
   "source": [
    "# Which five clients had the most entries in the data?\n",
    "top_clients = df['client_id'].value_counts().head(5)\n",
    "print(top_clients)"
   ]
  },
  {
   "cell_type": "code",
   "execution_count": 149,
   "id": "a6635601",
   "metadata": {},
   "outputs": [
    {
     "name": "stdout",
     "output_type": "stream",
     "text": [
      "[33615, 66037, 46820, 38378, 24741]\n"
     ]
    }
   ],
   "source": [
    "# Store the client ids of those top 5 clients in a list.\n",
    "top_clients_list = top_clients.index.tolist()\n",
    "print(top_clients_list)"
   ]
  },
  {
   "cell_type": "code",
   "execution_count": 151,
   "id": "c88b8a3e",
   "metadata": {},
   "outputs": [
    {
     "name": "stdout",
     "output_type": "stream",
     "text": [
      "64313\n"
     ]
    }
   ],
   "source": [
    "# How many total units (the qty column) did the client with the most entries order order?\n",
    "# Identify the client with the most entries\n",
    "top_client_id = top_clients.index[0]\n",
    "\n",
    "# Filter the dataframe to only include rows with the top client ID\n",
    "client_df = df[df['client_id'] == top_client_id]\n",
    "\n",
    "# Calculate the total units ordered by the client with the most entries\n",
    "total_units_ordered = client_df['qty'].sum()\n",
    "print(total_units_ordered)"
   ]
  },
  {
   "cell_type": "markdown",
   "id": "257fcd7d",
   "metadata": {},
   "source": [
    "## Part 2: Transform the Data\n",
    "Do we know that this client spent the more money than client 66037? If not, how would we find out? Transform the data using the steps below to prepare it for analysis."
   ]
  },
  {
   "cell_type": "code",
   "execution_count": 59,
   "id": "0c25c4a8",
   "metadata": {},
   "outputs": [
    {
     "name": "stdout",
     "output_type": "stream",
     "text": [
      "0        115164.00\n",
      "1           523.95\n",
      "2           527.28\n",
      "3          1056.18\n",
      "4          3902.00\n",
      "           ...    \n",
      "54634      2743.29\n",
      "54635      9709.73\n",
      "54636     31188.50\n",
      "54637       165.76\n",
      "54638      3103.31\n",
      "Name: subtotal, Length: 54639, dtype: float64\n",
      "0         105\n",
      "1          21\n",
      "2          39\n",
      "3          29\n",
      "4          20\n",
      "         ... \n",
      "54634      33\n",
      "54635      47\n",
      "54636     475\n",
      "54637     112\n",
      "54638    1031\n",
      "Name: qty, Length: 54639, dtype: int64\n"
     ]
    }
   ],
   "source": [
    "# Create a column that calculates the subtotal for each line using the unit_price and the qty\n",
    "df['subtotal'] = df['unit_price'] * df['qty']\n",
    "print(df['subtotal'])\n",
    "print(df['qty'])"
   ]
  },
  {
   "cell_type": "code",
   "execution_count": 63,
   "id": "ac9dafc8",
   "metadata": {},
   "outputs": [
    {
     "name": "stdout",
     "output_type": "stream",
     "text": [
      "0         75.0\n",
      "1         14.9\n",
      "2         16.8\n",
      "3         12.3\n",
      "4        464.3\n",
      "         ...  \n",
      "54634     22.5\n",
      "54635    117.0\n",
      "54636     41.6\n",
      "54637    180.4\n",
      "54638     20.7\n",
      "Name: shipping_price, Length: 54639, dtype: float64\n",
      "0         7.50\n",
      "1         1.49\n",
      "2         1.68\n",
      "3         1.23\n",
      "4        46.43\n",
      "         ...  \n",
      "54634     2.25\n",
      "54635    11.70\n",
      "54636     4.16\n",
      "54637    18.04\n",
      "54638     2.07\n",
      "Name: unit_weight, Length: 54639, dtype: float64\n"
     ]
    }
   ],
   "source": [
    "# Create a column for shipping price.\n",
    "# Assume a shipping price of $7 per pound for orders over 50 pounds and $10 per pound for items 50 pounds or under.\n",
    "# Create a column for the shipping price\n",
    "df['shipping_price'] = df['unit_weight'].apply(lambda x: 7*x if x > 50 else 10*x)\n",
    "print(df['shipping_price'])\n",
    "print(df['unit_weight'])"
   ]
  },
  {
   "cell_type": "code",
   "execution_count": 65,
   "id": "77f42c67",
   "metadata": {},
   "outputs": [
    {
     "name": "stdout",
     "output_type": "stream",
     "text": [
      "0        125898.607500\n",
      "1           588.693625\n",
      "2           594.407400\n",
      "3          1167.314400\n",
      "4          4770.182750\n",
      "             ...      \n",
      "54634      3021.625575\n",
      "54635     10735.702525\n",
      "54636     34118.884250\n",
      "54637       378.179800\n",
      "54638      3412.980925\n",
      "Name: total_price, Length: 54639, dtype: float64\n"
     ]
    }
   ],
   "source": [
    "# Create a column for the total price using the subtotal and the shipping price along with a sales tax of 9.25%\n",
    "df['total_price'] = (df['subtotal'] + df['shipping_price']) * 1.0925\n",
    "print(df['total_price'])"
   ]
  },
  {
   "cell_type": "code",
   "execution_count": 69,
   "id": "c82ad275",
   "metadata": {},
   "outputs": [
    {
     "name": "stdout",
     "output_type": "stream",
     "text": [
      "0        80159.55\n",
      "1          331.79\n",
      "2          323.34\n",
      "3          732.95\n",
      "4         2627.70\n",
      "           ...   \n",
      "54634     1725.30\n",
      "54635     8363.62\n",
      "54636    27263.85\n",
      "54637      317.04\n",
      "54638     1680.61\n",
      "Name: line_cost, Length: 54639, dtype: float64\n",
      "0         75.0\n",
      "1         14.9\n",
      "2         16.8\n",
      "3         12.3\n",
      "4        464.3\n",
      "         ...  \n",
      "54634     22.5\n",
      "54635    117.0\n",
      "54636     41.6\n",
      "54637    180.4\n",
      "54638     20.7\n",
      "Name: shipping_price, Length: 54639, dtype: float64\n"
     ]
    }
   ],
   "source": [
    "# Create a column for the cost of each line using unit cost, qty, and\n",
    "# shipping price (assume the shipping cost is exactly what is charged to the client).\n",
    "df['line_cost'] = df['unit_cost'] * df['qty'] + df['shipping_price']\n",
    "print(df['line_cost'])\n",
    "print(df['shipping_price'])"
   ]
  },
  {
   "cell_type": "code",
   "execution_count": 71,
   "id": "e2389018",
   "metadata": {},
   "outputs": [
    {
     "name": "stdout",
     "output_type": "stream",
     "text": [
      "0        45739.057500\n",
      "1          256.903625\n",
      "2          271.067400\n",
      "3          434.364400\n",
      "4         2142.482750\n",
      "             ...     \n",
      "54634     1296.325575\n",
      "54635     2372.082525\n",
      "54636     6855.034250\n",
      "54637       61.139800\n",
      "54638     1732.370925\n",
      "Name: profit, Length: 54639, dtype: float64\n",
      "0        125898.607500\n",
      "1           588.693625\n",
      "2           594.407400\n",
      "3          1167.314400\n",
      "4          4770.182750\n",
      "             ...      \n",
      "54634      3021.625575\n",
      "54635     10735.702525\n",
      "54636     34118.884250\n",
      "54637       378.179800\n",
      "54638      3412.980925\n",
      "Name: total_price, Length: 54639, dtype: float64\n",
      "0        80159.55\n",
      "1          331.79\n",
      "2          323.34\n",
      "3          732.95\n",
      "4         2627.70\n",
      "           ...   \n",
      "54634     1725.30\n",
      "54635     8363.62\n",
      "54636    27263.85\n",
      "54637      317.04\n",
      "54638     1680.61\n",
      "Name: line_cost, Length: 54639, dtype: float64\n"
     ]
    }
   ],
   "source": [
    "# Create a column for the profit of each line using line cost and line price\n",
    "df['profit'] = df['total_price'] - df['line_cost']\n",
    "print(df['profit'])\n",
    "print(df['total_price'])\n",
    "print(df['line_cost'])"
   ]
  },
  {
   "cell_type": "markdown",
   "id": "ef6f62b1",
   "metadata": {},
   "source": [
    "## Part 3: Confirm your work\n",
    "You have email receipts showing that the total prices for 3 orders. Confirm that your calculations match the receipts. Remember, each order has multiple lines.\n",
    "\n",
    "Order ID 2742071 had a total price of \\$152,811.89\n",
    "\n",
    "Order ID 2173913 had a total price of \\$162,388.71\n",
    "\n",
    "Order ID 6128929 had a total price of \\$923,441.25\n"
   ]
  },
  {
   "cell_type": "code",
   "execution_count": 42,
   "id": "c0e5d68e",
   "metadata": {},
   "outputs": [
    {
     "name": "stdout",
     "output_type": "stream",
     "text": [
      "Order 2742071 Total: 139844.51202499997\n",
      "Order 2173913 Total: 119838.35704999999\n",
      "Order 6128929 Total: 752748.7454750001\n"
     ]
    }
   ],
   "source": [
    "# Check your work using the totals above\n",
    "# Verify total prices for specific order IDs\n",
    "order_2742071_total = df[df['order_id'] == 2742071]['total_price'].sum()\n",
    "order_2173913_total = df[df['order_id'] == 2173913]['total_price'].sum()\n",
    "order_6128929_total = df[df['order_id'] == 6128929]['total_price'].sum()\n",
    "\n",
    "print(f\"Order 2742071 Total: {order_2742071_total}\")\n",
    "print(f\"Order 2173913 Total: {order_2173913_total}\")\n",
    "print(f\"Order 6128929 Total: {order_6128929_total}\")\n"
   ]
  },
  {
   "cell_type": "markdown",
   "id": "b94d58ab",
   "metadata": {},
   "source": [
    "## Part 4: Summarize and Analyze\n",
    "Use the new columns with confirmed values to find the following information."
   ]
  },
  {
   "cell_type": "code",
   "execution_count": 44,
   "id": "7c005f34",
   "metadata": {},
   "outputs": [
    {
     "name": "stdout",
     "output_type": "stream",
     "text": [
      "client_id\n",
      "24741    7.667848e+07\n",
      "33615    6.392918e+06\n",
      "38378    9.172866e+06\n",
      "46820    8.006333e+06\n",
      "66037    8.746255e+06\n",
      "Name: total_price, dtype: float64\n"
     ]
    }
   ],
   "source": [
    "# How much did each of the top 5 clients by quantity spend? Check your work from Part 1 for client ids.\n",
    "# Calculate the total spending for each of the top 5 clients\n",
    "top_clients_spending = df[df['client_id'].isin(top_clients_list)].groupby('client_id')['total_price'].sum()\n",
    "print(top_clients_spending)\n"
   ]
  },
  {
   "cell_type": "code",
   "execution_count": 46,
   "id": "81b6e4d2",
   "metadata": {},
   "outputs": [
    {
     "name": "stdout",
     "output_type": "stream",
     "text": [
      "   client_id  total_units_purchased  total_shipping_price  total_revenue  \\\n",
      "0      24741                 239862                9365.6   7.667848e+07   \n",
      "1      33615                  64313               12609.4   6.392918e+06   \n",
      "2      38378                  73667               11895.0   9.172866e+06   \n",
      "3      46820                  75768               11094.8   8.006333e+06   \n",
      "4      66037                  43018               10017.3   8.746255e+06   \n",
      "\n",
      "   total_profit  \n",
      "0  3.610666e+07  \n",
      "1  2.033980e+06  \n",
      "2  2.955706e+06  \n",
      "3  2.589495e+06  \n",
      "4  3.126907e+06  \n"
     ]
    }
   ],
   "source": [
    "# Create a summary DataFrame showing the totals for the for the top 5 clients with the following information:\n",
    "# total units purchased, total shipping price, total revenue, and total profit. \n",
    "# Create a summary DataFrame\n",
    "summary_df = df[df['client_id'].isin(top_clients_list)].groupby('client_id').agg(\n",
    "    total_units_purchased=('qty', 'sum'),\n",
    "    total_shipping_price=('shipping_price', 'sum'),\n",
    "    total_revenue=('total_price', 'sum'),\n",
    "    total_profit=('profit', 'sum')\n",
    ").reset_index()\n",
    "\n",
    "print(summary_df)"
   ]
  },
  {
   "cell_type": "code",
   "execution_count": 87,
   "id": "7be02867",
   "metadata": {},
   "outputs": [
    {
     "name": "stdout",
     "output_type": "stream",
     "text": [
      "Existing columns in summary_df: Index(['client_id', 'Total Units Purchased', 'Total Shipping Price (millions)',\n",
      "       'Total Revenue (millions)', 'Total Profit (millions)'],\n",
      "      dtype='object')\n",
      "Warning: Column 'total_shipping_price' not found in summary_df\n",
      "Warning: Column 'total_revenue' not found in summary_df\n",
      "Warning: Column 'total_profit' not found in summary_df\n",
      "   client_id  Total Units Purchased Total Shipping Price (millions)  \\\n",
      "0      24741                 239862                          $0.01M   \n",
      "1      33615                  64313                          $0.01M   \n",
      "2      38378                  73667                          $0.01M   \n",
      "3      46820                  75768                          $0.01M   \n",
      "4      66037                  43018                          $0.01M   \n",
      "\n",
      "  Total Revenue (millions) Total Profit (millions)  \n",
      "0                  $76.68M                 $36.11M  \n",
      "1                   $6.39M                  $2.03M  \n",
      "2                   $9.17M                  $2.96M  \n",
      "3                   $8.01M                  $2.59M  \n",
      "4                   $8.75M                  $3.13M  \n"
     ]
    }
   ],
   "source": [
    "# Format the data and rename the columns to names suitable for presentation.\n",
    "\n",
    "# Define the money columns.\n",
    "money_columns = ['total_shipping_price', 'total_revenue', 'total_profit']\n",
    "\n",
    "# Define a function that converts a dollar amount to millions.\n",
    "def currency_format_millions(x):\n",
    "    return f'${x/1e6:.2f}M'\n",
    "\n",
    "# Check the existing columns in summary_df\n",
    "print(\"Existing columns in summary_df:\", summary_df.columns)\n",
    "\n",
    "# Apply the currency_format_millions function to only the money columns if they exist.\n",
    "for col in money_columns:\n",
    "    if col in summary_df.columns:\n",
    "        summary_df[col] = summary_df[col].apply(currency_format_millions)\n",
    "    else:\n",
    "        print(f\"Warning: Column '{col}' not found in summary_df\")\n",
    "\n",
    "# Rename the columns to reflect the change in the money format.\n",
    "summary_df = summary_df.rename(columns={\n",
    "    'total_units_purchased': 'Total Units Purchased',\n",
    "    'total_shipping_price': 'Total Shipping Price (millions)',\n",
    "    'total_revenue': 'Total Revenue (millions)',\n",
    "    'total_profit': 'Total Profit (millions)'\n",
    "})\n",
    "\n",
    "print(summary_df)\n"
   ]
  },
  {
   "cell_type": "code",
   "execution_count": 175,
   "id": "86e8f348-94af-46b0-9761-5d9e304c2659",
   "metadata": {},
   "outputs": [
    {
     "ename": "KeyError",
     "evalue": "\"None of [Index(['total_shipping_price', 'total_revenue', 'total_profit'], dtype='object')] are in the [columns]\"",
     "output_type": "error",
     "traceback": [
      "\u001b[0;31m---------------------------------------------------------------------------\u001b[0m",
      "\u001b[0;31mKeyError\u001b[0m                                  Traceback (most recent call last)",
      "Cell \u001b[0;32mIn[175], line 6\u001b[0m\n\u001b[1;32m      3\u001b[0m     \u001b[38;5;28;01mreturn\u001b[39;00m \u001b[38;5;124m'\u001b[39m\u001b[38;5;124m$\u001b[39m\u001b[38;5;132;01m{:,.2f}\u001b[39;00m\u001b[38;5;124mM\u001b[39m\u001b[38;5;124m'\u001b[39m\u001b[38;5;241m.\u001b[39mformat(x\u001b[38;5;241m/\u001b[39m\u001b[38;5;241m1000000\u001b[39m)\n\u001b[1;32m      5\u001b[0m money_columns \u001b[38;5;241m=\u001b[39m [\u001b[38;5;124m'\u001b[39m\u001b[38;5;124mtotal_shipping_price\u001b[39m\u001b[38;5;124m'\u001b[39m, \u001b[38;5;124m'\u001b[39m\u001b[38;5;124mtotal_revenue\u001b[39m\u001b[38;5;124m'\u001b[39m, \u001b[38;5;124m'\u001b[39m\u001b[38;5;124mtotal_profit\u001b[39m\u001b[38;5;124m'\u001b[39m]\n\u001b[0;32m----> 6\u001b[0m summary_df[money_columns] \u001b[38;5;241m=\u001b[39m summary_df[money_columns]\u001b[38;5;241m.\u001b[39mapplymap(currency_format_millions)\n\u001b[1;32m      7\u001b[0m summary_df \u001b[38;5;241m=\u001b[39m summary_df\u001b[38;5;241m.\u001b[39mrename(columns\u001b[38;5;241m=\u001b[39m{\n\u001b[1;32m      8\u001b[0m     \u001b[38;5;124m'\u001b[39m\u001b[38;5;124mtotal_units\u001b[39m\u001b[38;5;124m'\u001b[39m: \u001b[38;5;124m'\u001b[39m\u001b[38;5;124mTotal Units Purchased\u001b[39m\u001b[38;5;124m'\u001b[39m,\n\u001b[1;32m      9\u001b[0m     \u001b[38;5;124m'\u001b[39m\u001b[38;5;124mtotal_shipping_price\u001b[39m\u001b[38;5;124m'\u001b[39m: \u001b[38;5;124m'\u001b[39m\u001b[38;5;124mTotal Shipping Price\u001b[39m\u001b[38;5;124m'\u001b[39m,\n\u001b[1;32m     10\u001b[0m     \u001b[38;5;124m'\u001b[39m\u001b[38;5;124mtotal_revenue\u001b[39m\u001b[38;5;124m'\u001b[39m: \u001b[38;5;124m'\u001b[39m\u001b[38;5;124mTotal Revenue\u001b[39m\u001b[38;5;124m'\u001b[39m,\n\u001b[1;32m     11\u001b[0m     \u001b[38;5;124m'\u001b[39m\u001b[38;5;124mtotal_profit\u001b[39m\u001b[38;5;124m'\u001b[39m: \u001b[38;5;124m'\u001b[39m\u001b[38;5;124mTotal Profit (millions)\u001b[39m\u001b[38;5;124m'\u001b[39m\n\u001b[1;32m     12\u001b[0m })\n",
      "File \u001b[0;32m/opt/anaconda3/lib/python3.12/site-packages/pandas/core/frame.py:4108\u001b[0m, in \u001b[0;36mDataFrame.__getitem__\u001b[0;34m(self, key)\u001b[0m\n\u001b[1;32m   4106\u001b[0m     \u001b[38;5;28;01mif\u001b[39;00m is_iterator(key):\n\u001b[1;32m   4107\u001b[0m         key \u001b[38;5;241m=\u001b[39m \u001b[38;5;28mlist\u001b[39m(key)\n\u001b[0;32m-> 4108\u001b[0m     indexer \u001b[38;5;241m=\u001b[39m \u001b[38;5;28mself\u001b[39m\u001b[38;5;241m.\u001b[39mcolumns\u001b[38;5;241m.\u001b[39m_get_indexer_strict(key, \u001b[38;5;124m\"\u001b[39m\u001b[38;5;124mcolumns\u001b[39m\u001b[38;5;124m\"\u001b[39m)[\u001b[38;5;241m1\u001b[39m]\n\u001b[1;32m   4110\u001b[0m \u001b[38;5;66;03m# take() does not accept boolean indexers\u001b[39;00m\n\u001b[1;32m   4111\u001b[0m \u001b[38;5;28;01mif\u001b[39;00m \u001b[38;5;28mgetattr\u001b[39m(indexer, \u001b[38;5;124m\"\u001b[39m\u001b[38;5;124mdtype\u001b[39m\u001b[38;5;124m\"\u001b[39m, \u001b[38;5;28;01mNone\u001b[39;00m) \u001b[38;5;241m==\u001b[39m \u001b[38;5;28mbool\u001b[39m:\n",
      "File \u001b[0;32m/opt/anaconda3/lib/python3.12/site-packages/pandas/core/indexes/base.py:6200\u001b[0m, in \u001b[0;36mIndex._get_indexer_strict\u001b[0;34m(self, key, axis_name)\u001b[0m\n\u001b[1;32m   6197\u001b[0m \u001b[38;5;28;01melse\u001b[39;00m:\n\u001b[1;32m   6198\u001b[0m     keyarr, indexer, new_indexer \u001b[38;5;241m=\u001b[39m \u001b[38;5;28mself\u001b[39m\u001b[38;5;241m.\u001b[39m_reindex_non_unique(keyarr)\n\u001b[0;32m-> 6200\u001b[0m \u001b[38;5;28mself\u001b[39m\u001b[38;5;241m.\u001b[39m_raise_if_missing(keyarr, indexer, axis_name)\n\u001b[1;32m   6202\u001b[0m keyarr \u001b[38;5;241m=\u001b[39m \u001b[38;5;28mself\u001b[39m\u001b[38;5;241m.\u001b[39mtake(indexer)\n\u001b[1;32m   6203\u001b[0m \u001b[38;5;28;01mif\u001b[39;00m \u001b[38;5;28misinstance\u001b[39m(key, Index):\n\u001b[1;32m   6204\u001b[0m     \u001b[38;5;66;03m# GH 42790 - Preserve name from an Index\u001b[39;00m\n",
      "File \u001b[0;32m/opt/anaconda3/lib/python3.12/site-packages/pandas/core/indexes/base.py:6249\u001b[0m, in \u001b[0;36mIndex._raise_if_missing\u001b[0;34m(self, key, indexer, axis_name)\u001b[0m\n\u001b[1;32m   6247\u001b[0m \u001b[38;5;28;01mif\u001b[39;00m nmissing:\n\u001b[1;32m   6248\u001b[0m     \u001b[38;5;28;01mif\u001b[39;00m nmissing \u001b[38;5;241m==\u001b[39m \u001b[38;5;28mlen\u001b[39m(indexer):\n\u001b[0;32m-> 6249\u001b[0m         \u001b[38;5;28;01mraise\u001b[39;00m \u001b[38;5;167;01mKeyError\u001b[39;00m(\u001b[38;5;124mf\u001b[39m\u001b[38;5;124m\"\u001b[39m\u001b[38;5;124mNone of [\u001b[39m\u001b[38;5;132;01m{\u001b[39;00mkey\u001b[38;5;132;01m}\u001b[39;00m\u001b[38;5;124m] are in the [\u001b[39m\u001b[38;5;132;01m{\u001b[39;00maxis_name\u001b[38;5;132;01m}\u001b[39;00m\u001b[38;5;124m]\u001b[39m\u001b[38;5;124m\"\u001b[39m)\n\u001b[1;32m   6251\u001b[0m     not_found \u001b[38;5;241m=\u001b[39m \u001b[38;5;28mlist\u001b[39m(ensure_index(key)[missing_mask\u001b[38;5;241m.\u001b[39mnonzero()[\u001b[38;5;241m0\u001b[39m]]\u001b[38;5;241m.\u001b[39munique())\n\u001b[1;32m   6252\u001b[0m     \u001b[38;5;28;01mraise\u001b[39;00m \u001b[38;5;167;01mKeyError\u001b[39;00m(\u001b[38;5;124mf\u001b[39m\u001b[38;5;124m\"\u001b[39m\u001b[38;5;132;01m{\u001b[39;00mnot_found\u001b[38;5;132;01m}\u001b[39;00m\u001b[38;5;124m not in index\u001b[39m\u001b[38;5;124m\"\u001b[39m)\n",
      "\u001b[0;31mKeyError\u001b[0m: \"None of [Index(['total_shipping_price', 'total_revenue', 'total_profit'], dtype='object')] are in the [columns]\""
     ]
    }
   ],
   "source": [
    "# Format the data and rename the columns\n",
    "def currency_format_millions(x):\n",
    "    return '${:,.2f}M'.format(x/1000000)\n",
    "\n",
    "money_columns = ['total_shipping_price', 'total_revenue', 'total_profit']\n",
    "summary_df[money_columns] = summary_df[money_columns].applymap(currency_format_millions)\n",
    "summary_df = summary_df.rename(columns={\n",
    "    'total_units': 'Total Units Purchased',\n",
    "    'total_shipping_price': 'Total Shipping Price',\n",
    "    'total_revenue': 'Total Revenue',\n",
    "    'total_profit': 'Total Profit (millions)'\n",
    "})"
   ]
  },
  {
   "cell_type": "code",
   "execution_count": 79,
   "id": "8ead0986",
   "metadata": {},
   "outputs": [
    {
     "name": "stdout",
     "output_type": "stream",
     "text": [
      "   client_id  Total Units Purchased Total Shipping Price (millions)  \\\n",
      "0      24741                 239862                          $0.01M   \n",
      "1      66037                  43018                          $0.01M   \n",
      "2      38378                  73667                          $0.01M   \n",
      "3      46820                  75768                          $0.01M   \n",
      "4      33615                  64313                          $0.01M   \n",
      "\n",
      "  Total Revenue (millions) Total Profit (millions)  \n",
      "0                  $76.68M                 $36.11M  \n",
      "1                   $8.75M                  $3.13M  \n",
      "2                   $9.17M                  $2.96M  \n",
      "3                   $8.01M                  $2.59M  \n",
      "4                   $6.39M                  $2.03M  \n"
     ]
    }
   ],
   "source": [
    "# Sort the updated data by \"Total Profit (millions)\" from highest to lowest and assign the sort to a new DataFrame.\n",
    "sorted_summary_df = summary_df.sort_values(by='Total Profit (millions)', ascending=False).reset_index(drop=True)\n",
    "\n",
    "print(sorted_summary_df)"
   ]
  },
  {
   "cell_type": "markdown",
   "id": "dcdbdf91-5cf4-4704-911e-32f09fef97bb",
   "metadata": {},
   "source": [
    "Summary of findings:\n",
    "# The top 5 clients by quantity ordered a significant amount of units.\n",
    "# The total revenue generated by these clients is substantial, with noticeable profits.\n",
    "# The total shipping costs are considerable but necessary for the revenue generated."
   ]
  },
  {
   "cell_type": "code",
   "execution_count": null,
   "id": "ee628553-81ec-471e-ae3f-9b5a5b50dbd3",
   "metadata": {},
   "outputs": [],
   "source": []
  }
 ],
 "metadata": {
  "kernelspec": {
   "display_name": "Python 3 (ipykernel)",
   "language": "python",
   "name": "python3"
  },
  "language_info": {
   "codemirror_mode": {
    "name": "ipython",
    "version": 3
   },
   "file_extension": ".py",
   "mimetype": "text/x-python",
   "name": "python",
   "nbconvert_exporter": "python",
   "pygments_lexer": "ipython3",
   "version": "3.12.4"
  }
 },
 "nbformat": 4,
 "nbformat_minor": 5
}
